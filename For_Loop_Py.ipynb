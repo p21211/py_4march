{
 "cells": [
  {
   "cell_type": "code",
   "execution_count": 1,
   "id": "18efab76-001b-42df-947c-cc3bf79ca05c",
   "metadata": {},
   "outputs": [],
   "source": [
    "# solution 1:\n",
    "# example- for loop : when we want to execute a statement for a fixed number of times as we want to print integer from 1 to 10 so ere we know we need to start from 1 and then do this 10 times. \n",
    "\n",
    "\n",
    "# example-while loop: when we want to end a loop upon a condition as if we want to sum a given variavle by itself do it till the sum is less than 100\n"
   ]
  },
  {
   "cell_type": "code",
   "execution_count": 3,
   "id": "1013ce7b-476a-464d-a940-631fe803e8b9",
   "metadata": {},
   "outputs": [
    {
     "name": "stdout",
     "output_type": "stream",
     "text": [
      "100\n"
     ]
    }
   ],
   "source": [
    "# solution 2:\n",
    "for i in range(1,11):\n",
    "    i=i*i\n",
    "print(i)"
   ]
  },
  {
   "cell_type": "code",
   "execution_count": null,
   "id": "089404bc-ddda-42b9-9221-038b8240ffb8",
   "metadata": {},
   "outputs": [],
   "source": [
    "i=1;\n",
    "while i<11:\n",
    "    t=i*i\n",
    "    i=i+1\n",
    "print(t)"
   ]
  },
  {
   "cell_type": "code",
   "execution_count": 10,
   "id": "e59305cd-4419-47bb-81b8-af5886b95391",
   "metadata": {},
   "outputs": [
    {
     "name": "stdin",
     "output_type": "stream",
     "text": [
      "enter number of units consumed 100\n"
     ]
    },
    {
     "name": "stdout",
     "output_type": "stream",
     "text": [
      "450.0\n"
     ]
    }
   ],
   "source": [
    "# solution 3:For the first 100 units, the user will be charged Rs. 4.5 per\n",
    "# unit, for the next 100 units, the user will be charged Rs. 6 per unit, and for the next 100 units, the user will\n",
    "# be charged Rs. 10 per unit, After 300 units and above the user will be charged Rs. 20 per unit.\n",
    "\n",
    "units= int(input(\"enter number of units consumed\"))\n",
    "\n",
    "if units<= 100:\n",
    "             bill= 4.5*units\n",
    "if units>100 and units<=200:\n",
    "             bill= 4.5*100+6*(units-100)\n",
    "if units>200 and units <300:\n",
    "             bill = 4.5*100+6*(200)+10*(units-200)\n",
    "if units>300:\n",
    "             bill = 4.5*100+6*(200)+10*(300)+20*(units-300)\n",
    "print(bill)\n",
    "\n"
   ]
  },
  {
   "cell_type": "code",
   "execution_count": null,
   "id": "753fcfa2-f7d9-460e-a995-dd50222e7a89",
   "metadata": {},
   "outputs": [],
   "source": [
    "# solution 4:\n",
    "list_my= list(range(1,101))\n",
    "new_list = []\n",
    "for i in list_my :\n",
    "    t=i*i*i\n",
    "    if t%4 ==0 or t%5==0:\n",
    "        new_list.append(t)\n",
    "print(new_list)\n",
    "        \n",
    "    \n",
    "\n"
   ]
  },
  {
   "cell_type": "code",
   "execution_count": null,
   "id": "98c1e1a9-3764-4c20-a140-6c54b55e21ce",
   "metadata": {},
   "outputs": [],
   "source": [
    "# solution 4:\n",
    "list_my= list(range(1,101))\n",
    "new_list = []\n",
    "i=1\n",
    "while i<len(list_my):\n",
    "    t=i*i*i\n",
    "    i=i+1\n",
    "    if t%4==0 or t%5== 0:\n",
    "        new_list.append(t)\n",
    "       \n",
    "print(new_list)"
   ]
  },
  {
   "cell_type": "code",
   "execution_count": null,
   "id": "067a82e3-dfbe-4858-9be5-ad622b0807b4",
   "metadata": {},
   "outputs": [],
   "source": [
    "# solution 5:\n",
    "s=\"I want to become a data scientist\"\n",
    "i=0\n",
    "count=0\n",
    "for i in range(len(s)):\n",
    "    if (s[i]=='a' or s[i]=='e' or s[i]=='i' or s[i]=='o' or s[i]=='u'):\n",
    "        count=count+1\n",
    "        i=i+1\n",
    "print(count)\n",
    "        \n"
   ]
  }
 ],
 "metadata": {
  "kernelspec": {
   "display_name": "Python 3 (ipykernel)",
   "language": "python",
   "name": "python3"
  },
  "language_info": {
   "codemirror_mode": {
    "name": "ipython",
    "version": 3
   },
   "file_extension": ".py",
   "mimetype": "text/x-python",
   "name": "python",
   "nbconvert_exporter": "python",
   "pygments_lexer": "ipython3",
   "version": "3.10.8"
  }
 },
 "nbformat": 4,
 "nbformat_minor": 5
}
