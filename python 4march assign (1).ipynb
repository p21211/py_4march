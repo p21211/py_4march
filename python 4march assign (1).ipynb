{
 "cells": [
  {
   "cell_type": "code",
   "execution_count": 2,
   "id": "30de614d",
   "metadata": {},
   "outputs": [
    {
     "name": "stdout",
     "output_type": "stream",
     "text": [
      "[('Virat Kohli', 24936), ('Jack Kallis', 25534), ('Ricky Ponting', 27483), ('Sachin Tendulkar', 34357)]\n"
     ]
    }
   ],
   "source": [
    "# solution 1 :\n",
    "gl=[('Sachin Tendulkar', 34357), ('Ricky Ponting', 27483), ('Jack Kallis', 25534), ('Virat Kohli', 24936)]\n",
    "gl.sort(key = lambda x : x[1])\n",
    "print(gl)"
   ]
  },
  {
   "cell_type": "code",
   "execution_count": 3,
   "id": "b27aafc2",
   "metadata": {},
   "outputs": [
    {
     "name": "stdout",
     "output_type": "stream",
     "text": [
      "Original list of integers: [1, 2, 3, 4, 5, 6, 7, 8, 9, 10]\n",
      "\n",
      "Square every number of list:\n",
      "Required list of integers: [1, 4, 9, 16, 25, 36, 49, 64, 81, 100]\n"
     ]
    }
   ],
   "source": [
    "# solution 2 :\n",
    "nums = [1, 2, 3, 4, 5, 6, 7, 8, 9, 10]\n",
    "print(\"Original list of integers:\",nums)\n",
    "print(\"\\nSquare every number of list:\")\n",
    "square_nums = list(map(lambda x: x ** 2, nums))\n",
    "print(\"Required list of integers:\",square_nums)"
   ]
  },
  {
   "cell_type": "code",
   "execution_count": 4,
   "id": "d427925d",
   "metadata": {},
   "outputs": [
    {
     "name": "stdout",
     "output_type": "stream",
     "text": [
      "Original list of integers: [1, 2, 3, 4, 5, 6, 7, 8, 9, 10]\n",
      "\n",
      "Square every number of list:\n",
      "Required list of integers: ['1', '2', '3', '4', '5', '6', '7', '8', '9', '10']\n"
     ]
    }
   ],
   "source": [
    "# solution 3:\n",
    "nums = [1, 2, 3, 4, 5, 6, 7, 8, 9, 10]\n",
    "print(\"Original list of integers:\",nums)\n",
    "print(\"\\nSquare every number of list:\")\n",
    "square_nums = list(map(lambda x: str(x), nums))\n",
    "print(\"Required list of integers:\",square_nums)"
   ]
  },
  {
   "cell_type": "code",
   "execution_count": 5,
   "id": "ca48f9e3",
   "metadata": {},
   "outputs": [
    {
     "name": "stdout",
     "output_type": "stream",
     "text": [
      "The product of the list elements is : 15511210043330985984000000\n"
     ]
    }
   ],
   "source": [
    "# solution 4 :\n",
    "import functools\n",
    " \n",
    "# initializing list\n",
    "lis = [1,2,3,4,5,6,7,8,9,10,11,12,13,14,15,16,17,18,19,20,21,22,23,24,25]\n",
    " \n",
    "\n",
    "print(\"The product of the list elements is : \", end=\"\")\n",
    "print(functools.reduce(lambda a, b: a*b, lis))\n",
    " "
   ]
  },
  {
   "cell_type": "code",
   "execution_count": 6,
   "id": "14531e66",
   "metadata": {},
   "outputs": [
    {
     "name": "stdout",
     "output_type": "stream",
     "text": [
      "Orginal list: [2, 3, 6, 9, 27, 60, 90, 120, 55, 46]\n",
      "\n",
      " Numbers of the given list divisible by 2 and 3:\n",
      "[6, 60, 90, 120]\n"
     ]
    }
   ],
   "source": [
    "# solution 5 :\n",
    "nums = [2, 3, 6, 9, 27, 60, 90, 120, 55, 46]\n",
    "print(\"Orginal list:\",nums)\n",
    "result = list(filter(lambda x: (x % 2 == 0 and x % 3 == 0), nums)) \n",
    "print(\"\\n Numbers of the given list divisible by 2 and 3:\")\n",
    "print(result)"
   ]
  },
  {
   "cell_type": "code",
   "execution_count": 10,
   "id": "ca88d528",
   "metadata": {},
   "outputs": [
    {
     "name": "stdout",
     "output_type": "stream",
     "text": [
      "Orginal list: ['python', 'php', 'aba', 'radar', 'level']\n",
      "Palindromes :  ['php', 'aba', 'radar', 'level']\n"
     ]
    }
   ],
   "source": [
    "# solution 6 :\n",
    "g_list=['python', 'php', 'aba', 'radar', 'level']\n",
    "print(\"Orginal list:\",g_list)\n",
    "result = list(filter(lambda x: (x== \"\".join(reversed(x)) ), g_list)) \n",
    "print(\"Palindromes : \", result)\n"
   ]
  },
  {
   "cell_type": "code",
   "execution_count": null,
   "id": "50db2b1a",
   "metadata": {},
   "outputs": [],
   "source": []
  }
 ],
 "metadata": {
  "kernelspec": {
   "display_name": "Python 3 (ipykernel)",
   "language": "python",
   "name": "python3"
  },
  "language_info": {
   "codemirror_mode": {
    "name": "ipython",
    "version": 3
   },
   "file_extension": ".py",
   "mimetype": "text/x-python",
   "name": "python",
   "nbconvert_exporter": "python",
   "pygments_lexer": "ipython3",
   "version": "3.9.12"
  }
 },
 "nbformat": 4,
 "nbformat_minor": 5
}
